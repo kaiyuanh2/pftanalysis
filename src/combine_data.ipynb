{
 "cells": [
  {
   "cell_type": "code",
   "execution_count": null,
   "id": "b89a1d5f",
   "metadata": {},
   "outputs": [],
   "source": [
    "import pandas"
   ]
  },
  {
   "cell_type": "code",
   "execution_count": null,
   "id": "7169605c",
   "metadata": {
    "scrolled": true
   },
   "outputs": [],
   "source": [
    "entities = pandas.read_csv(\"entitiesoutput11.txt\",dtype=str,index_col=False)"
   ]
  },
  {
   "cell_type": "code",
   "execution_count": null,
   "id": "52e4537a",
   "metadata": {},
   "outputs": [],
   "source": [
    "entities = entities[entities.School.isnull()]"
   ]
  },
  {
   "cell_type": "code",
   "execution_count": null,
   "id": "8b618407",
   "metadata": {},
   "outputs": [],
   "source": [
    "entities = entities.query(\"`scode` == '0000000' and `dcode` != '00000' and `chrtnum` == '0000'\")"
   ]
  },
  {
   "cell_type": "code",
   "execution_count": null,
   "id": "c5e1246d",
   "metadata": {},
   "outputs": [],
   "source": [
    "entities"
   ]
  },
  {
   "cell_type": "code",
   "execution_count": null,
   "id": "3a1746db",
   "metadata": {},
   "outputs": [],
   "source": [
    "research = pandas.read_csv(\"PhysFit2011.txt\",dtype=str,index_col=False)"
   ]
  },
  {
   "cell_type": "code",
   "execution_count": null,
   "id": "b59b3b3f",
   "metadata": {},
   "outputs": [],
   "source": [
    "research.rename(columns = {'CO': 'ccode', 'DIST':'dcode', 'SCHL':'scode', 'ChrtNum':'chrtnum'}, inplace = True)"
   ]
  },
  {
   "cell_type": "code",
   "execution_count": null,
   "id": "b2d955bf",
   "metadata": {},
   "outputs": [],
   "source": [
    "research = research.query(\"`scode` == '0000000' and `dcode` != '00000' and `Level_Number` == '2' and `Report_Number` == '0' and `Table_Number` == '1' and (`Line_Number` == '1' or `Line_Number` == '2')\")"
   ]
  },
  {
   "cell_type": "code",
   "execution_count": null,
   "id": "12b7506d",
   "metadata": {},
   "outputs": [],
   "source": [
    "research"
   ]
  },
  {
   "cell_type": "code",
   "execution_count": null,
   "id": "0fbfa81a",
   "metadata": {},
   "outputs": [],
   "source": [
    "result = pandas.merge(entities, research, how='left', left_on=['ccode','dcode','scode','chrtnum'],\\\n",
    "                      right_on = ['ccode','dcode','scode','chrtnum'])"
   ]
  },
  {
   "cell_type": "code",
   "execution_count": null,
   "id": "638ded8a",
   "metadata": {},
   "outputs": [],
   "source": [
    "result"
   ]
  },
  {
   "cell_type": "code",
   "execution_count": null,
   "id": "0d3a14c6",
   "metadata": {},
   "outputs": [],
   "source": [
    "result.to_csv('result11.csv')"
   ]
  },
  {
   "cell_type": "code",
   "execution_count": null,
   "id": "9aad549a",
   "metadata": {},
   "outputs": [],
   "source": [
    "oc_entities = entities.query(\"ccode == '30'\")"
   ]
  },
  {
   "cell_type": "code",
   "execution_count": null,
   "id": "0b98e06b",
   "metadata": {},
   "outputs": [],
   "source": [
    "oc_entities"
   ]
  },
  {
   "cell_type": "code",
   "execution_count": null,
   "id": "1e7578bf",
   "metadata": {},
   "outputs": [],
   "source": [
    "oc_research = research.query(\"ccode == '30'\")"
   ]
  },
  {
   "cell_type": "code",
   "execution_count": null,
   "id": "d0854c11",
   "metadata": {},
   "outputs": [],
   "source": [
    "oc_research"
   ]
  },
  {
   "cell_type": "code",
   "execution_count": null,
   "id": "8bd5e264",
   "metadata": {},
   "outputs": [],
   "source": [
    "oc_result = pandas.merge(oc_entities, oc_research, how='left',\\\n",
    "                         left_on=['ccode','dcode','scode','chrtnum'], right_on = ['ccode','dcode','scode','chrtnum'])"
   ]
  },
  {
   "cell_type": "code",
   "execution_count": null,
   "id": "35ad31e0",
   "metadata": {},
   "outputs": [],
   "source": [
    "# oc_result.to_csv('oc_result19.csv')"
   ]
  },
  {
   "cell_type": "code",
   "execution_count": null,
   "id": "0335f215",
   "metadata": {},
   "outputs": [],
   "source": [
    "oc_result"
   ]
  },
  {
   "cell_type": "code",
   "execution_count": null,
   "id": "a124adcc",
   "metadata": {},
   "outputs": [],
   "source": [
    "def weighted_average(df, values, weights):\n",
    "    d = df[values].astype(float)\n",
    "    w = df[weights].astype(int)\n",
    "    return (d * w).sum() / w.sum()"
   ]
  },
  {
   "cell_type": "code",
   "execution_count": null,
   "id": "5db2b65a",
   "metadata": {},
   "outputs": [],
   "source": [
    "weighted_5 = str(weighted_average(oc_result, 'Perc5a', 'NoHFZ5'))\n",
    "weighted_5"
   ]
  },
  {
   "cell_type": "code",
   "execution_count": null,
   "id": "3b7fcfa1",
   "metadata": {},
   "outputs": [],
   "source": [
    "oc_result.loc[oc_result[\"Perc5a\"].str.match(pat='.+0\\.0'), \"Perc5a\"] = weighted_5"
   ]
  },
  {
   "cell_type": "code",
   "execution_count": null,
   "id": "7e6076ad",
   "metadata": {},
   "outputs": [],
   "source": [
    "weighted_7 = str(weighted_average(oc_result, 'Perc7a', 'NoHFZ7'))\n",
    "oc_result.loc[oc_result[\"Perc7a\"].str.match(pat='.+0\\.0'), \"Perc7a\"] = weighted_7\n",
    "weighted_7"
   ]
  },
  {
   "cell_type": "code",
   "execution_count": null,
   "id": "d9a59ea0",
   "metadata": {},
   "outputs": [],
   "source": [
    "weighted_9 = str(weighted_average(oc_result, 'Perc9a', 'NoHFZ9'))\n",
    "oc_result.loc[oc_result[\"Perc9a\"].str.match(pat='.+0\\.0'), \"Perc9a\"] = weighted_9\n",
    "weighted_9"
   ]
  },
  {
   "cell_type": "code",
   "execution_count": null,
   "id": "faf0f920",
   "metadata": {},
   "outputs": [],
   "source": [
    "oc_result.to_csv('oc_result11.csv')\n",
    "oc_result"
   ]
  },
  {
   "cell_type": "code",
   "execution_count": null,
   "id": "fc9547c9",
   "metadata": {},
   "outputs": [],
   "source": []
  }
 ],
 "metadata": {
  "kernelspec": {
   "display_name": "Python 3 (ipykernel)",
   "language": "python",
   "name": "python3"
  },
  "language_info": {
   "codemirror_mode": {
    "name": "ipython",
    "version": 3
   },
   "file_extension": ".py",
   "mimetype": "text/x-python",
   "name": "python",
   "nbconvert_exporter": "python",
   "pygments_lexer": "ipython3",
   "version": "3.10.6"
  }
 },
 "nbformat": 4,
 "nbformat_minor": 5
}
